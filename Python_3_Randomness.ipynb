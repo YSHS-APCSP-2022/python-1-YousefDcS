{
  "nbformat": 4,
  "nbformat_minor": 0,
  "metadata": {
    "colab": {
      "provenance": [],
      "include_colab_link": true
    },
    "kernelspec": {
      "name": "python3",
      "display_name": "Python 3"
    }
  },
  "cells": [
    {
      "cell_type": "markdown",
      "metadata": {
        "id": "view-in-github",
        "colab_type": "text"
      },
      "source": [
        "<a href=\"https://colab.research.google.com/github/YSHS-APCSP-2022/python-1-YousefDcS/blob/main/Python_3_Randomness.ipynb\" target=\"_parent\"><img src=\"https://colab.research.google.com/assets/colab-badge.svg\" alt=\"Open In Colab\"/></a>"
      ]
    },
    {
      "cell_type": "markdown",
      "metadata": {
        "id": "AJZX0MjdY2Op"
      },
      "source": [
        "# Randomness\n",
        "Sometimes it is useful to incorporate a bit of randomness into your code. From spawning enemies, to guessing games, to randomly selecting the order, randomness is essential to a lot of code. \n",
        "\n",
        "To keep python sleek only certain functions, like print(), are loaded with base python. Other functions, like the random functions, need to be loaded into the python environment. Collections of functions are called libraries and to access them you need to import the library in a code cell. This is usually done at the top of your code.\n",
        "``` python\n",
        "import random\n",
        "```\n",
        "This imports the library random that has several random functions that we will use. Below are two examples of the random function run the cells below and see what the \n",
        "```python\n",
        "random.randint()\n",
        "```\n",
        "and the random.choice()  do\n",
        "```python\n",
        "random.choice()\n",
        "```"
      ]
    },
    {
      "cell_type": "code",
      "metadata": {
        "id": "jEDVby0OSxkK",
        "colab": {
          "base_uri": "https://localhost:8080/",
          "height": 34
        },
        "outputId": "e3efa35a-4222-4757-bca3-9febfdcf5ecc"
      },
      "source": [
        "import random\n",
        "#randint stands for random integer\n",
        "print(random.randint(0,100))"
      ],
      "execution_count": null,
      "outputs": [
        {
          "output_type": "stream",
          "text": [
            "38\n"
          ],
          "name": "stdout"
        }
      ]
    },
    {
      "cell_type": "code",
      "metadata": {
        "id": "Yu_KJAkeS9_K",
        "colab": {
          "base_uri": "https://localhost:8080/",
          "height": 34
        },
        "outputId": "8393d326-9328-445a-a411-f755c26ed4cf"
      },
      "source": [
        "import random\n",
        "#note that you need 2 parentheses, the first one is to group the candy bars and the second one is to run the random.choice around it\n",
        "random.choice((\"Snickers\",\"Twix\",\"Nerds\",\"Kit Kats\"))\n"
      ],
      "execution_count": null,
      "outputs": [
        {
          "output_type": "execute_result",
          "data": {
            "text/plain": [
              "'Nerds'"
            ]
          },
          "metadata": {
            "tags": []
          },
          "execution_count": 18
        }
      ]
    },
    {
      "cell_type": "markdown",
      "metadata": {
        "id": "Rui7G49OTiMT"
      },
      "source": [
        "# Make a Guessing Game\n",
        "\n",
        "1. Define a function called guessing game that takes 1 input number\n",
        "2. In the function randomly pick a number from 1 to 5 (see random.randint())\n",
        "3. If the guess == the randomly picked number print you got it\n",
        "4. Else print \"you did not get the number correct, you guessed [input guess] and the random number was [input random number]"
      ]
    },
    {
      "cell_type": "code",
      "metadata": {
        "id": "UiL_R6zVUQl6",
        "colab": {
          "base_uri": "https://localhost:8080/"
        },
        "outputId": "eb46d140-d476-45a8-b01f-6134597d8abf"
      },
      "source": [
        "import random\n",
        "guess = random.randint(1,5)\n",
        "def game(what):\n",
        "  what = guess #variable\n",
        "  print(what) #prints the variable of random selection\n",
        "  if what == 5:\n",
        "    print(\"ok it picked 5\")\n",
        "    return \n",
        "  print(what)\n",
        "  print(what)\n",
        "game(guess) #call the function"
      ],
      "execution_count": 22,
      "outputs": [
        {
          "output_type": "stream",
          "name": "stdout",
          "text": [
            "5\n",
            "ok it picked 5\n"
          ]
        }
      ]
    },
    {
      "cell_type": "markdown",
      "metadata": {
        "id": "oQHBqn_HURfy"
      },
      "source": [
        "# Guessing Game 2.0\n",
        "1. Define a function called guessing game that takes 1 input number\n",
        "2. In the function randomly pick a number from 1 to 5 (see random.randint())\n",
        "3. If the guess == the randomly picked number print you got it\n",
        "4. If the guess > the randomly picked number print \"Your guess is too high\"\n",
        "5. If the guess < the randomly picked number print \"Your guess is too low\" \n",
        "\n",
        "*when you have stacked if statements that are checked one after the other the next if should be an elif (which stands for elseif) see the code below for an example *\n",
        "\n",
        "```python\n",
        "pet = 'dog'\n",
        "if pet == 'cat':\n",
        "  print(\"you have a cat\")\n",
        "elif pet == 'dog':\n",
        "  print(\"you have a dog\")\n",
        "elif pet == 'bird':\n",
        "  print(\"you have a bird\")\n",
        "else:\n",
        "  print(\"You have a \" + pet)\n",
        "```\n"
      ]
    },
    {
      "cell_type": "code",
      "metadata": {
        "id": "B4uXynQpYwZS",
        "colab": {
          "base_uri": "https://localhost:8080/",
          "height": 357
        },
        "outputId": "68561698-bd26-40ce-b964-42fe6b8d1746"
      },
      "source": [
        "\n",
        "import random\n",
        "numberpicked = random.randint(1,6)\n",
        "max = 5\n",
        "guess = 3\n",
        "\n",
        "def guesser(what, howmuch):\n",
        "  what = numberpicked\n",
        "  howmuch = max\n",
        "  if what > howmuch:\n",
        "    print(\"too high\")\n",
        "    return\n",
        "  elif what == guess:\n",
        "    print(\"the guesser guessed the number right; it was \" + int(guess))\n",
        "  elif what <= howmuch:\n",
        "        print(\"it picked within the limit under 6\")\n",
        "  print(\"ok done then, less than 6\")\n",
        "guesser(numberpicked, max)\n",
        "  \n",
        "  "
      ],
      "execution_count": 101,
      "outputs": [
        {
          "output_type": "error",
          "ename": "TypeError",
          "evalue": "ignored",
          "traceback": [
            "\u001b[0;31m---------------------------------------------------------------------------\u001b[0m",
            "\u001b[0;31mTypeError\u001b[0m                                 Traceback (most recent call last)",
            "\u001b[0;32m<ipython-input-101-c26c9a9000a0>\u001b[0m in \u001b[0;36m<module>\u001b[0;34m\u001b[0m\n\u001b[1;32m     16\u001b[0m         \u001b[0mprint\u001b[0m\u001b[0;34m(\u001b[0m\u001b[0;34m\"it picked within the limit under 6\"\u001b[0m\u001b[0;34m)\u001b[0m\u001b[0;34m\u001b[0m\u001b[0;34m\u001b[0m\u001b[0m\n\u001b[1;32m     17\u001b[0m   \u001b[0mprint\u001b[0m\u001b[0;34m(\u001b[0m\u001b[0;34m\"ok done then, less than 6\"\u001b[0m\u001b[0;34m)\u001b[0m\u001b[0;34m\u001b[0m\u001b[0;34m\u001b[0m\u001b[0m\n\u001b[0;32m---> 18\u001b[0;31m \u001b[0mguesser\u001b[0m\u001b[0;34m(\u001b[0m\u001b[0mnumberpicked\u001b[0m\u001b[0;34m,\u001b[0m \u001b[0mmax\u001b[0m\u001b[0;34m,\u001b[0m \u001b[0mguess\u001b[0m\u001b[0;34m)\u001b[0m\u001b[0;34m\u001b[0m\u001b[0;34m\u001b[0m\u001b[0m\n\u001b[0m\u001b[1;32m     19\u001b[0m \u001b[0;34m\u001b[0m\u001b[0m\n\u001b[1;32m     20\u001b[0m \u001b[0;34m\u001b[0m\u001b[0m\n",
            "\u001b[0;32m<ipython-input-101-c26c9a9000a0>\u001b[0m in \u001b[0;36mguesser\u001b[0;34m(what, howmuch, answer)\u001b[0m\n\u001b[1;32m     12\u001b[0m     \u001b[0;32mreturn\u001b[0m\u001b[0;34m\u001b[0m\u001b[0;34m\u001b[0m\u001b[0m\n\u001b[1;32m     13\u001b[0m   \u001b[0;32melif\u001b[0m \u001b[0manswer\u001b[0m \u001b[0;34m==\u001b[0m \u001b[0mguess\u001b[0m\u001b[0;34m:\u001b[0m\u001b[0;34m\u001b[0m\u001b[0;34m\u001b[0m\u001b[0m\n\u001b[0;32m---> 14\u001b[0;31m     \u001b[0mprint\u001b[0m\u001b[0;34m(\u001b[0m\u001b[0;34m\"the guesser guessed the number right; it was \"\u001b[0m \u001b[0;34m+\u001b[0m \u001b[0mint\u001b[0m\u001b[0;34m(\u001b[0m\u001b[0mguess\u001b[0m\u001b[0;34m)\u001b[0m\u001b[0;34m)\u001b[0m\u001b[0;34m\u001b[0m\u001b[0;34m\u001b[0m\u001b[0m\n\u001b[0m\u001b[1;32m     15\u001b[0m   \u001b[0;32melif\u001b[0m \u001b[0mwhat\u001b[0m \u001b[0;34m<=\u001b[0m \u001b[0mhowmuch\u001b[0m\u001b[0;34m:\u001b[0m\u001b[0;34m\u001b[0m\u001b[0;34m\u001b[0m\u001b[0m\n\u001b[1;32m     16\u001b[0m         \u001b[0mprint\u001b[0m\u001b[0;34m(\u001b[0m\u001b[0;34m\"it picked within the limit under 6\"\u001b[0m\u001b[0;34m)\u001b[0m\u001b[0;34m\u001b[0m\u001b[0;34m\u001b[0m\u001b[0m\n",
            "\u001b[0;31mTypeError\u001b[0m: can only concatenate str (not \"int\") to str"
          ]
        }
      ]
    }
  ]
}